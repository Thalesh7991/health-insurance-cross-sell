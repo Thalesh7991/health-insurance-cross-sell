{
 "cells": [
  {
   "cell_type": "markdown",
   "id": "ef8c4323",
   "metadata": {},
   "source": [
    "# Planejamento da Solução"
   ]
  },
  {
   "cell_type": "markdown",
   "id": "fc6df08b",
   "metadata": {},
   "source": [
    "## Input"
   ]
  },
  {
   "cell_type": "markdown",
   "id": "47252bfe",
   "metadata": {},
   "source": [
    "- Base de dados que é resultado de uma pesquisa feita sobre a intenção de 380 mil clientes em aderir uma nova modalidade de seguro, a de automóveis.\n",
    "\n",
    "- Temos também uma outra base de dados com mais 127 mil novos clientes que não responderam a essa pesquisa."
   ]
  },
  {
   "cell_type": "markdown",
   "id": "7fbee308",
   "metadata": {},
   "source": [
    "## Output"
   ]
  },
  {
   "cell_type": "markdown",
   "id": "26052653",
   "metadata": {},
   "source": [
    "- Um relatório contendo a propoensão de compra de cada cliente que não respondeu a pesquisa."
   ]
  },
  {
   "cell_type": "markdown",
   "id": "77cd0dea",
   "metadata": {},
   "source": [
    "## Taks"
   ]
  },
  {
   "cell_type": "markdown",
   "id": "c697a3c6",
   "metadata": {},
   "source": [
    "- Coleta de Dados\n",
    "\n",
    "- Análise Descritiva\n",
    "\n",
    "- EDA\n",
    "\n",
    "- Preparação dos Dados\n",
    "\n",
    "- Implementação dos Algoritmos\n",
    "\n",
    "- Métricas de Negócio\n",
    "\n",
    "- Tradução para Negócio\n",
    "\n",
    "- Modelo em Produção"
   ]
  },
  {
   "cell_type": "code",
   "execution_count": null,
   "id": "82ce3890",
   "metadata": {},
   "outputs": [],
   "source": []
  }
 ],
 "metadata": {
  "kernelspec": {
   "display_name": "Python 3",
   "language": "python",
   "name": "python3"
  },
  "language_info": {
   "codemirror_mode": {
    "name": "ipython",
    "version": 3
   },
   "file_extension": ".py",
   "mimetype": "text/x-python",
   "name": "python",
   "nbconvert_exporter": "python",
   "pygments_lexer": "ipython3",
   "version": "3.8.8"
  }
 },
 "nbformat": 4,
 "nbformat_minor": 5
}
